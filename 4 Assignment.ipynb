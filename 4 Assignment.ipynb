{
 "cells": [
  {
   "cell_type": "code",
   "execution_count": 25,
   "id": "f8630831",
   "metadata": {},
   "outputs": [
    {
     "name": "stdout",
     "output_type": "stream",
     "text": [
      "what is your math score: 23\n",
      "what is your physics score: 24\n",
      "what is your geography score: 32\n",
      "what is your CRK score: 27\n",
      "what is your biology score: 29\n",
      "what is your agric score: 30\n",
      "what is your health score: 31\n",
      "what is your further math score: 33\n",
      "\n",
      "    your math score:23.0\n",
      "    your physics score:24.0\n",
      "    your geography score:32.0\n",
      "    your CRK score:27.0\n",
      "    your biology score:29.0\n",
      "    your agric score:30.0\n",
      "    your health score:31.0\n",
      "    your further math score:33.0\n",
      "    \n",
      "your average score is 28.62\n"
     ]
    }
   ],
   "source": [
    "def averagescore(grade1, grade2, grade3, grade4, grade5, grade6, grade7, grade8):\n",
    "    print(f'''\n",
    "    your math score:{grade1}\n",
    "    your physics score:{grade2}\n",
    "    your geography score:{grade3}\n",
    "    your CRK score:{grade4}\n",
    "    your biology score:{grade5}\n",
    "    your agric score:{grade6}\n",
    "    your health score:{grade7}\n",
    "    your further math score:{grade8}\n",
    "    ''')\n",
    "    import statistics as stat\n",
    "    avg = round(stat.mean([grade1,grade2,grade3,grade4,grade5,grade6,grade7,grade8]),2)\n",
    "    print(f'your average score is {avg}')\n",
    "\n",
    "    \n",
    "    \n",
    "averagescore(float(input('what is your math score: ')),\n",
    "             float(input('what is your physics score: ')),\n",
    "             float(input('what is your geography score: ')),\n",
    "             float(input('what is your CRK score: ')),\n",
    "             float(input('what is your biology score: ')),\n",
    "             float(input('what is your agric score: ')),\n",
    "             float(input('what is your health score: ')),\n",
    "             float(input('what is your further math score: '))\n",
    "            )"
   ]
  },
  {
   "cell_type": "code",
   "execution_count": null,
   "id": "ad71a340",
   "metadata": {},
   "outputs": [],
   "source": []
  },
  {
   "cell_type": "code",
   "execution_count": null,
   "id": "c7fa8509",
   "metadata": {},
   "outputs": [],
   "source": []
  },
  {
   "cell_type": "code",
   "execution_count": null,
   "id": "3ada1509",
   "metadata": {},
   "outputs": [],
   "source": []
  },
  {
   "cell_type": "code",
   "execution_count": null,
   "id": "8ebacbaf",
   "metadata": {},
   "outputs": [],
   "source": []
  },
  {
   "cell_type": "code",
   "execution_count": null,
   "id": "14af0583",
   "metadata": {},
   "outputs": [],
   "source": []
  }
 ],
 "metadata": {
  "kernelspec": {
   "display_name": "Python 3 (ipykernel)",
   "language": "python",
   "name": "python3"
  },
  "language_info": {
   "codemirror_mode": {
    "name": "ipython",
    "version": 3
   },
   "file_extension": ".py",
   "mimetype": "text/x-python",
   "name": "python",
   "nbconvert_exporter": "python",
   "pygments_lexer": "ipython3",
   "version": "3.11.5"
  }
 },
 "nbformat": 4,
 "nbformat_minor": 5
}
