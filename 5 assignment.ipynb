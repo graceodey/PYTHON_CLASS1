{
 "cells": [
  {
   "cell_type": "code",
   "execution_count": null,
   "id": "ba9b0714",
   "metadata": {},
   "outputs": [
    {
     "name": "stdout",
     "output_type": "stream",
     "text": [
      "temperature value in degree fahrenheit:45\n",
      "the %.2f degree fahrenheit is equal to %:.2f celsius is equal to: %.2f fehrenheit\n",
      "7.222222222222222\n"
     ]
    }
   ],
   "source": [
    "fahrenheit=float(input(\"temperature value in degree fahrenheit:\"))\n",
    "celsius=(fahrenheit-32)/1.8\n",
    "print(\"the %.2f degree fahrenheit is equal to %:.2f celsius is equal to: %.2f fehrenheit\")\n",
    "print(celsius)\n",
    "celsius=float(input(\"temperature vale is degree celsius:\"))\n",
    "fehrenheit=(celsius*1.8)+32\n",
    "print(\"the %.2f degree celsius is equal to:%2f fahrenheit is equal to: %2f celsius\")\n",
    "print(fahrenheit)\n",
    "      \n",
    "              "
   ]
  },
  {
   "cell_type": "code",
   "execution_count": null,
   "id": "5f927435",
   "metadata": {},
   "outputs": [],
   "source": []
  }
 ],
 "metadata": {
  "kernelspec": {
   "display_name": "Python 3 (ipykernel)",
   "language": "python",
   "name": "python3"
  },
  "language_info": {
   "codemirror_mode": {
    "name": "ipython",
    "version": 3
   },
   "file_extension": ".py",
   "mimetype": "text/x-python",
   "name": "python",
   "nbconvert_exporter": "python",
   "pygments_lexer": "ipython3",
   "version": "3.11.5"
  }
 },
 "nbformat": 4,
 "nbformat_minor": 5
}
