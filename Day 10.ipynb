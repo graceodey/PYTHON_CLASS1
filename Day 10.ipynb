{
 "cells": [
  {
   "cell_type": "markdown",
   "id": "d191aa1a",
   "metadata": {},
   "source": [
    "## DATE AND TIME"
   ]
  },
  {
   "cell_type": "code",
   "execution_count": 9,
   "id": "8773525e",
   "metadata": {},
   "outputs": [
    {
     "name": "stdout",
     "output_type": "stream",
     "text": [
      "['MAXYEAR', 'MINYEAR', 'UTC', '__all__', '__builtins__', '__cached__', '__doc__', '__file__', '__loader__', '__name__', '__package__', '__spec__', 'date', 'datetime', 'datetime_CAPI', 'sys', 'time', 'timedelta', 'timezone', 'tzinfo']\n"
     ]
    }
   ],
   "source": [
    "import datetime\n",
    "print(dir(datetime))"
   ]
  },
  {
   "cell_type": "code",
   "execution_count": 10,
   "id": "e7bba4e2",
   "metadata": {},
   "outputs": [
    {
     "data": {
      "text/plain": [
       "datetime.date(2022, 2, 25)"
      ]
     },
     "execution_count": 10,
     "metadata": {},
     "output_type": "execute_result"
    }
   ],
   "source": [
    "date1=datetime.date(2022,2,25)\n",
    "date1"
   ]
  },
  {
   "cell_type": "code",
   "execution_count": null,
   "id": "61e7be69",
   "metadata": {},
   "outputs": [],
   "source": [
    "print(date1.year)\n",
    "print(date1.day)\n",
    "print(date1.month)\n",
    "print(date1.year)\n",
    "print(date1.weekday())"
   ]
  },
  {
   "cell_type": "code",
   "execution_count": 11,
   "id": "db1e4921",
   "metadata": {},
   "outputs": [
    {
     "data": {
      "text/plain": [
       "datetime.date(2024, 2, 19)"
      ]
     },
     "execution_count": 11,
     "metadata": {},
     "output_type": "execute_result"
    }
   ],
   "source": [
    "currentdate=datetime.date.today()\n",
    "currentdate"
   ]
  },
  {
   "cell_type": "code",
   "execution_count": null,
   "id": "d11b2a9e",
   "metadata": {},
   "outputs": [],
   "source": [
    "## SRFTTIME: this is used for modification of date and time\n",
    "currentdate.strftime(\"%d of %B,%Y\")"
   ]
  },
  {
   "cell_type": "code",
   "execution_count": null,
   "id": "afea4bb8",
   "metadata": {},
   "outputs": [],
   "source": [
    "current_time=datetime.datetime.now().time()\n",
    "current_time"
   ]
  },
  {
   "cell_type": "code",
   "execution_count": null,
   "id": "8d092515",
   "metadata": {},
   "outputs": [],
   "source": [
    "current_time.strftime(\"%H::%M::%S::%p\")"
   ]
  },
  {
   "cell_type": "code",
   "execution_count": null,
   "id": "62964c81",
   "metadata": {},
   "outputs": [],
   "source": [
    "current_date_time=datetime.datetime.now()\n",
    "current_date_time"
   ]
  },
  {
   "cell_type": "code",
   "execution_count": null,
   "id": "8f290013",
   "metadata": {},
   "outputs": [],
   "source": [
    "cdate=input(\"Enter your date[mm/dd/yy]\")\n",
    "condate=datetime.datetime.strptime(cdate, \"%m/%d/%Y\").date()\n",
    "condate"
   ]
  },
  {
   "cell_type": "code",
   "execution_count": null,
   "id": "0d1f40a7",
   "metadata": {},
   "outputs": [],
   "source": [
    "currentdate - condate"
   ]
  },
  {
   "cell_type": "code",
   "execution_count": 12,
   "id": "7764462e",
   "metadata": {},
   "outputs": [
    {
     "data": {
      "text/plain": [
       "datetime.date(2024, 7, 18)"
      ]
     },
     "execution_count": 12,
     "metadata": {},
     "output_type": "execute_result"
    }
   ],
   "source": [
    "currentdate + datetime.timedelta(days=150)"
   ]
  },
  {
   "cell_type": "code",
   "execution_count": null,
   "id": "7f5789cc",
   "metadata": {},
   "outputs": [],
   "source": [
    "currentdate - datetime.timedelta(days=90)"
   ]
  },
  {
   "cell_type": "code",
   "execution_count": null,
   "id": "c09dc246",
   "metadata": {},
   "outputs": [],
   "source": [
    "## exerise\n",
    "## write a program to calculate how many weeks and days a user has until his/her appointment from the current date.\n"
   ]
  },
  {
   "cell_type": "code",
   "execution_count": 14,
   "id": "3c9a3cb2",
   "metadata": {},
   "outputs": [
    {
     "name": "stdout",
     "output_type": "stream",
     "text": [
      "Enter your date[yy/mm/dd]:2023/12/04\n",
      "dear user you have -11 weeks and 0 days untill your appointment\n"
     ]
    }
   ],
   "source": [
    "appdate=input(\"Enter your date[yy/mm/dd]:\")\n",
    "appdate_now= datetime.datetime.strptime(appdate,\"%Y/%m/%d\").date()\n",
    "currentdate= datetime.date.today()\n",
    "diff= appdate_now - currentdate\n",
    "noweeks=diff.days//7\n",
    "nodays= diff.days %7\n",
    "print(f'dear user you have {noweeks} weeks and {nodays} days untill your appointment')\n",
    "\n",
    "\n",
    "\n",
    "\n",
    "\n",
    "\n",
    "\n"
   ]
  },
  {
   "cell_type": "code",
   "execution_count": 1,
   "id": "4ef62311",
   "metadata": {},
   "outputs": [
    {
     "ename": "SyntaxError",
     "evalue": "invalid syntax (1483349724.py, line 39)",
     "output_type": "error",
     "traceback": [
      "\u001b[0;36m  Cell \u001b[0;32mIn[1], line 39\u001b[0;36m\u001b[0m\n\u001b[0;31m    elif:\u001b[0m\n\u001b[0m        ^\u001b[0m\n\u001b[0;31mSyntaxError\u001b[0m\u001b[0;31m:\u001b[0m invalid syntax\n"
     ]
    }
   ],
   "source": [
    "class patientrecord:\n",
    "    def __init__ (self,name,age,height,weight, complexion):\n",
    "        self.name=name \n",
    "        self.age=age\n",
    "        self.height=height\n",
    "        self.weight=weight\n",
    "        self.complexion=complexion\n",
    "    def start(self):\n",
    "        print(f''' ___patient record___)\n",
    "        \"NAME\": {self.name}\n",
    "        \"Age\": {self.age}\n",
    "        \"HEIGHTt\":{self.height}\n",
    "        \"weight\": {self.weight}\n",
    "        \"complexsion\":{self.complexion}\n",
    "        ''')\n",
    "    \n",
    "    def countinetprice(self):\n",
    "        option = input(\"what is your country selection, [usa,kwanda,sweden,nigeria,conada]\")\n",
    "        if option ==\"usa\":\n",
    "            print(\"the amount usa in dollars is $80\")\n",
    "        elif option ==\"nigeria\":\n",
    "            print(\"the amount usa in dollars is $70\")\n",
    "        elif option ==\"uk\":\n",
    "            print(\"the amount usa in dollars is $65\")\n",
    "        elif option ==\"cameroon\":\n",
    "            print(\"the amount usa in dollars is $150\")\n",
    "        elif option ==\"landon\":\n",
    "            print(\"the amount usa in dollars is $67\")\n",
    "    def bodymassindex(self):\n",
    "        height=float(input(\"what is your height in meters:\"))\n",
    "        weight=float(input(\"enter your weight in kg:\"))\n",
    "        bmi=weigt/(height**2)\n",
    "        if bmi <18.5:\n",
    "            print(f' your bmi is {bmi}),you are underweight, see your doctor')\n",
    "        elif bmi >=18.5 and bmi <= 24.99:\n",
    "            print(f' your bmi is {bmi}, you are healthy')\n",
    "        elif bmi >-25 and bmi <=30:\n",
    "            print(f' your {bmi}, your are overweight, see your doctor')\n",
    "        elif:\n",
    "            print (f'your bmi is {bmi},you are extremely obesse, see your doctor immediately')\n",
    "health=patientrecord(\"favour\",28,2,1,67,\"fair\")\n",
    "\n",
    "        \n",
    "           \n",
    "        \n",
    "  \n",
    "            \n",
    "    \n",
    "               \n",
    "                \n",
    "            \n",
    "            \n",
    "            \n",
    "               \n",
    "     \n"
   ]
  },
  {
   "cell_type": "code",
   "execution_count": null,
   "id": "3461c32e",
   "metadata": {},
   "outputs": [],
   "source": []
  }
 ],
 "metadata": {
  "kernelspec": {
   "display_name": "Python 3 (ipykernel)",
   "language": "python",
   "name": "python3"
  },
  "language_info": {
   "codemirror_mode": {
    "name": "ipython",
    "version": 3
   },
   "file_extension": ".py",
   "mimetype": "text/x-python",
   "name": "python",
   "nbconvert_exporter": "python",
   "pygments_lexer": "ipython3",
   "version": "3.11.5"
  }
 },
 "nbformat": 4,
 "nbformat_minor": 5
}
