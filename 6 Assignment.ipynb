{
 "cells": [
  {
   "cell_type": "code",
   "execution_count": 3,
   "id": "964dfdec",
   "metadata": {},
   "outputs": [
    {
     "name": "stdout",
     "output_type": "stream",
     "text": [
      "[0, 25]\n"
     ]
    }
   ],
   "source": [
    "##filter\n",
    "num5=[0,1,4,32,43,23,47,23,66,31,25]\n",
    "nlist=list(filter(lambda x:x % 5 == 0, num5))\n",
    "print(nlist)"
   ]
  },
  {
   "cell_type": "code",
   "execution_count": 6,
   "id": "94c04a95",
   "metadata": {},
   "outputs": [
    {
     "name": "stdout",
     "output_type": "stream",
     "text": [
      "['banana', 'watermellon', 'pawpaw', 'orange']\n"
     ]
    }
   ],
   "source": [
    "## write a lambda function\n",
    "fruits = ['banana', 'apple', 'watermellon', 'pawpaw', 'orange']\n",
    "nlist =list(filter(lambda x: len(x) > 5 , fruits))\n",
    "print(nlist)"
   ]
  },
  {
   "cell_type": "code",
   "execution_count": null,
   "id": "a7ca8a82",
   "metadata": {},
   "outputs": [],
   "source": []
  }
 ],
 "metadata": {
  "kernelspec": {
   "display_name": "Python 3 (ipykernel)",
   "language": "python",
   "name": "python3"
  },
  "language_info": {
   "codemirror_mode": {
    "name": "ipython",
    "version": 3
   },
   "file_extension": ".py",
   "mimetype": "text/x-python",
   "name": "python",
   "nbconvert_exporter": "python",
   "pygments_lexer": "ipython3",
   "version": "3.11.5"
  }
 },
 "nbformat": 4,
 "nbformat_minor": 5
}
